{
  "nbformat": 4,
  "nbformat_minor": 0,
  "metadata": {
    "colab": {
      "provenance": [],
      "gpuType": "T4"
    },
    "kernelspec": {
      "name": "python3",
      "display_name": "Python 3"
    },
    "language_info": {
      "name": "python"
    },
    "accelerator": "GPU"
  },
  "cells": [
    {
      "cell_type": "markdown",
      "source": [
        "credit::https://github.com/Jackson-Kang/Pytorch-VAE-tutorial/blob/master/01_Variational_AutoEncoder.ipynb"
      ],
      "metadata": {
        "id": "q4L9znr7LsbT"
      }
    },
    {
      "cell_type": "code",
      "execution_count": 1,
      "metadata": {
        "id": "a9BUvGN-FDFJ"
      },
      "outputs": [],
      "source": [
        "import torch\n",
        "import torch.nn as nn\n",
        "\n",
        "import numpy as np\n",
        "\n",
        "from tqdm import tqdm\n",
        "\n",
        "from torchvision.utils import save_image, make_grid"
      ]
    },
    {
      "cell_type": "code",
      "source": [
        "# Model Hyperparameters\n",
        "\n",
        "dataset_path = '~/datasets'\n",
        "\n",
        "cuda = True\n",
        "DEVICE = torch.device(\"cuda\" if cuda else \"cpu\")\n",
        "\n",
        "\n",
        "batch_size = 100\n",
        "\n",
        "x_dim  = 784\n",
        "hidden_dim = 400\n",
        "latent_dim = 200\n",
        "\n",
        "lr = 1e-3\n",
        "\n",
        "epochs = 30"
      ],
      "metadata": {
        "id": "eJ-qVuUVFjYI"
      },
      "execution_count": 2,
      "outputs": []
    },
    {
      "cell_type": "code",
      "source": [
        "from torchvision.datasets import MNIST\n",
        "import torchvision.transforms as transforms\n",
        "from torch.utils.data import DataLoader\n",
        "\n",
        "mnist_transform=transforms.Compose(\n",
        "    [transforms.ToTensor(),]\n",
        ")\n",
        "kwargs = {'num_workers': 1, 'pin_memory': True}\n",
        "\n",
        "train_dataset = MNIST(dataset_path, transform=mnist_transform, train=True, download=True)\n",
        "test_dataset  = MNIST(dataset_path, transform=mnist_transform, train=False, download=True)\n",
        "\n",
        "train_loader = DataLoader(dataset=train_dataset, batch_size=batch_size, shuffle=True, **kwargs)\n",
        "test_loader  = DataLoader(dataset=test_dataset,  batch_size=batch_size, shuffle=False, **kwargs)"
      ],
      "metadata": {
        "colab": {
          "base_uri": "https://localhost:8080/"
        },
        "id": "KCg83dtUFp52",
        "outputId": "96aeb76e-2fca-43da-cf50-b0f439bdef46"
      },
      "execution_count": 3,
      "outputs": [
        {
          "output_type": "stream",
          "name": "stderr",
          "text": [
            "100%|██████████| 9.91M/9.91M [00:00<00:00, 16.6MB/s]\n",
            "100%|██████████| 28.9k/28.9k [00:00<00:00, 488kB/s]\n",
            "100%|██████████| 1.65M/1.65M [00:00<00:00, 4.59MB/s]\n",
            "100%|██████████| 4.54k/4.54k [00:00<00:00, 2.37MB/s]\n"
          ]
        }
      ]
    },
    {
      "cell_type": "markdown",
      "source": [
        "![image.png](data:image/png;base64,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)"
      ],
      "metadata": {
        "id": "2vQLh3rlH__i"
      }
    },
    {
      "cell_type": "code",
      "source": [
        "class Encoder(nn.Module):\n",
        "  def __init__(self, input, hidden, latent):\n",
        "    super().__init__()\n",
        "\n",
        "    self.fc_input=nn.Linear(input, hidden)\n",
        "    self.fc_input2=nn.Linear(hidden, hidden)\n",
        "    self.fc_mean=nn.Linear(hidden, latent)\n",
        "    self.fc_var=nn.Linear(hidden, latent)\n",
        "\n",
        "    self.LeakyReLU=nn.LeakyReLU(0.2)\n",
        "\n",
        "    self.training=True\n",
        "\n",
        "  def forward(self, x):\n",
        "    h=self.LeakyReLU(self.fc_input(x))\n",
        "    h=self.LeakyReLU(self.fc_input2(h))\n",
        "    mean=self.fc_mean(h)\n",
        "    logvar=self.fc_var(h) #그냥 출력이 로그분산되게 학습이될거라고 가정\n",
        "    return mean, logvar\n",
        "# 인코더가 출력하는 평균 μ(x)와 로그분산 log(σ²(x))는 분포q의 파라미터\n",
        "# q가 tractable하도록 정규분포로"
      ],
      "metadata": {
        "id": "WYULaF9iGJFI"
      },
      "execution_count": 14,
      "outputs": []
    },
    {
      "cell_type": "code",
      "source": [
        "class Decoder(nn.Module):\n",
        "  def __init__(self, latent, hidden, out):\n",
        "    super().__init__()\n",
        "    self.fc_hidden=nn.Linear(latent, hidden)\n",
        "    self.fc_hidden2=nn.Linear(hidden,hidden)\n",
        "    self.fc_out=nn.Linear(hidden, out)\n",
        "\n",
        "    self.LeakyReLU=nn.LeakyReLU(0.2)\n",
        "\n",
        "  def forward(self, x):\n",
        "    h= self.LeakyReLU(self.fc_hidden(x))\n",
        "    h= self.LeakyReLU(self.fc_hidden2(h))\n",
        "\n",
        "    x_hat=torch.softmax(self.fc_out(h))\n",
        "    return x_hat # 확률값 리턴\n"
      ],
      "metadata": {
        "id": "9AUfrYJEHsJy"
      },
      "execution_count": 5,
      "outputs": []
    },
    {
      "cell_type": "code",
      "source": [
        "class Model(nn.Module):\n",
        "  def __init__(self, Encoder, Decoder):\n",
        "    super().__init__()\n",
        "    self.Encoder=Encoder\n",
        "    self.Decoder=Decoder\n",
        "\n",
        "  def reparameterization(self, mean, var):\n",
        "    epsilon=torch.randn_like(var).to(DEVICE) # var와 같은 shape이면서 표준정규분포에서 샘플링한\n",
        "    z=mean+var*epsilon # ε을 곱하는 이유는 표준 정규분포에서 샘플링된 노이즈를 통해 z를 N(mean, var^2)에서 샘플링하기 위함\n",
        "    return z # latent space가 평균 mean, 분산 var²를 따르는 정규분포를 따르도록 재파라미터화됨\n",
        "\n",
        "  def forward(self, x):\n",
        "    mean, log_var=self.Encoder(x)\n",
        "    z=self.reparameterization(mean, torch.exp(0.5*log_var))\n",
        "    x_hat=self.Decoder(z)\n",
        "    return x_hat, mean, log_var\n",
        ""
      ],
      "metadata": {
        "id": "yptKc6ssLj7y"
      },
      "execution_count": 10,
      "outputs": []
    },
    {
      "cell_type": "code",
      "source": [
        "encoder = Encoder(input=x_dim, hidden=hidden_dim, latent=latent_dim)\n",
        "decoder = Decoder(latent=latent_dim, hidden = hidden_dim, out = x_dim)\n",
        "\n",
        "model = Model(Encoder=encoder, Decoder=decoder).to(DEVICE)"
      ],
      "metadata": {
        "id": "tI594YxJNCzc"
      },
      "execution_count": 11,
      "outputs": []
    },
    {
      "cell_type": "markdown",
      "source": [
        "**1. binary_cross_entropy (BCE)**\n",
        "\n",
        "\n",
        "*   이진 분류 (Binary Classification) 또는 Autoencoder 재구성 손실 (F.binary_cross_entropy(x_hat, x))\n",
        "*   BCE=−∑[x⋅log(x\n",
        "hat\n",
        "​\n",
        " )+(1−x)⋅log(1−x\n",
        "hat\n",
        "​\n",
        " )]\n",
        "*   타겟 x\t0 또는 1인 값\n",
        "\n",
        "**2. cross_entropy (CE)**\n",
        "\n",
        "\n",
        "*   다중 클래스 분류 (F.cross_entropy(logits_per_image, labels))\n",
        "*   타겟 labels\t정수 인덱스 (예: [2, 0, 1])\n",
        "\n",
        "\n",
        "\n"
      ],
      "metadata": {
        "id": "xVKrjmdpPGWh"
      }
    },
    {
      "cell_type": "markdown",
      "source": [
        "VAE(Variational Autoencoder)에서는 latent 공간이 표준 정규분포를 따르도록 강제하지만, 그렇다고 해서 이 공간이 무의미해지는 것은 아닙니다. 왜냐하면 VAE는 두 가지 목표를 동시에 학습하기 때문입니다. 첫 번째는 입력 데이터를 다시 잘 복원하도록 학습하는 것이고, 두 번째는 latent 공간이 전체적으로 표준 정규분포에 가까워지도록 정렬하는 것입니다. 이 두 가지 제약이 함께 작용하면서, latent 공간의 각 위치는 여전히 의미 있는 정보를 담게 됩니다.\n",
        "\n",
        "예를 들어, 모델 A가 숫자 이미지(MNIST)를 학습하고, 모델 B가 의류 이미지(Fashion-MNIST)를 학습했다고 가정해봅시다. 두 모델 모두 latent 공간을 표준 정규분포처럼 보이게 만들지만, 그 안에서 각 위치가 담고 있는 정보는 다릅니다. 즉, 같은 모양의 분포라도 그 안에 어떤 z가 어떤 이미지를 의미하는지는 각 모델의 학습 내용에 따라 달라지므로, 표면적으로는 같아 보여도 내부적인 의미는 전혀 다를 수 있습니다.\n",
        "\n",
        "이러한 특성 덕분에 VAE는 무작위로 z를 샘플링하더라도 의미 있는 데이터를 생성할 수 있습니다. 학습된 latent 공간이 표준 정규분포를 따르도록 잘 정리되어 있기 때문에, 표준 정규분포에서 임의로 z를 뽑아도 그것이 어떤 의미 있는 데이터를 재구성하는 데 사용될 수 있습니다. 이게 바로 VAE의 중요한 장점 중 하나입니다.\n",
        "\n",
        "요약하자면, 여러 모델이 표준 정규분포를 따른다고 해서 그 latent가 무의미해지는 것은 아닙니다. 재구성이라는 목표와 KL divergence 제약이 함께 작용하면서, latent 공간에는 여전히 의미가 담기게 됩니다. 따라서 무작위로 z를 샘플링해도 그로부터 자연스러운 데이터를 생성할 수 있는 것입니다."
      ],
      "metadata": {
        "id": "WlxJ5klKUiqk"
      }
    },
    {
      "cell_type": "code",
      "source": [
        "from torch.optim import Adam\n",
        "BCE_loss=nn.BCELoss()\n",
        "\n",
        "def loss_function(x, x_hat, mean, log_var): # x: target, 0 또는 1인 값\n",
        "  reproduction_loss=nn.functional.binary_cross_entropy(x_hat, x, reduction='sum') # 결과를 어떻게 합산 또는 평균할지를 정하는 옵션/ 'sum'\t모든 손실을 합산해서 1개의 scalar로 반환\n",
        "  KLD=-0.5*torch.sum(1+log_var-mean.pow(2)-log_var.exp()) # kld를 closed-form으 계산\n",
        "  # 정규분포끼리는 공식화 가능\n",
        "  # latent 공간을 표준 정규분포로 정렬하는 목표고, 그 오차가 kld\n",
        "  return reproduction_loss+KLD\n",
        "\n",
        "optimizer=Adam(model.parameters(),lr=lr)\n",
        "\n"
      ],
      "metadata": {
        "id": "7Ie1M1KUNgIV"
      },
      "execution_count": 12,
      "outputs": []
    },
    {
      "cell_type": "code",
      "source": [
        "model.train() # 모델을 학습 모드로 전환, 드롭아웃과 배치정규화 활성화됨\n",
        "\n",
        "for epoch in range(epochs):\n",
        "    overall_loss = 0\n",
        "    for batch_idx, (x, _) in enumerate(train_loader):\n",
        "        x = x.view(batch_size, x_dim)\n",
        "        x = x.to(DEVICE)\n",
        "\n",
        "        optimizer.zero_grad()\n",
        "\n",
        "        x_hat, mean, log_var = model(x)\n",
        "        loss = loss_function(x, x_hat, mean, log_var)\n",
        "\n",
        "        overall_loss += loss.item()\n",
        "\n",
        "        loss.backward()\n",
        "        optimizer.step()\n",
        "\n",
        "    print(\"\\tEpoch\", epoch + 1, \"complete!\", \"\\tAverage Loss: \", overall_loss / (batch_idx*batch_size))\n",
        "\n",
        "print(\"Finish!!\")\n"
      ],
      "metadata": {
        "id": "WyZJpgWBUl5v"
      },
      "execution_count": 16,
      "outputs": []
    },
    {
      "cell_type": "code",
      "source": [
        "model.eval()\n",
        "\n",
        "with torch.no_grad():\n",
        "    for batch_idx, (x, _) in enumerate(tqdm(test_loader)):\n",
        "        x = x.view(batch_size, x_dim)\n",
        "        x = x.to(DEVICE)\n",
        "\n",
        "        x_hat, _, _ = model(x)\n",
        "\n",
        "\n",
        "        break"
      ],
      "metadata": {
        "id": "QI7AKJEcWELH"
      },
      "execution_count": null,
      "outputs": []
    },
    {
      "cell_type": "code",
      "source": [
        "with torch.no_grad():\n",
        "    noise = torch.randn(batch_size, latent_dim).to(DEVICE)\n",
        "    generated_images = decoder(noise)\n",
        "\n",
        "import matplotlib.pyplot as plt\n",
        "def show_image(x, idx):\n",
        "    x = x.view(batch_size, 28, 28)\n",
        "\n",
        "    fig = plt.figure()\n",
        "    plt.imshow(x[idx].cpu().numpy())\n",
        "\n",
        "save_image(generated_images.view(batch_size, 1, 28, 28), 'generated_sample.png')\n",
        "show_image(generated_images, idx=12)"
      ],
      "metadata": {
        "id": "X3D4l8jqh5o1"
      },
      "execution_count": null,
      "outputs": []
    }
  ]
}