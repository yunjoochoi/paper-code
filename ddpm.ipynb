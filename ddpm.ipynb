{
  "nbformat": 4,
  "nbformat_minor": 0,
  "metadata": {
    "colab": {
      "provenance": []
    },
    "kernelspec": {
      "name": "python3",
      "display_name": "Python 3"
    },
    "language_info": {
      "name": "python"
    }
  },
  "cells": [
    {
      "cell_type": "code",
      "execution_count": null,
      "metadata": {
        "id": "3ePn3wBDEZ2W"
      },
      "outputs": [],
      "source": [
        "from google.colab import drive\n",
        "drive.mount('/content/drive/')\n",
        "import shutil\n",
        "shutil.copy('/mnt/data/2fec765e-d15b-4ce2-93ba-cc652282907a.png', 'ddpm_paper.png')\n",
        "\n",
        "Image(filename='ddpm_paper.png')\n"
      ]
    },
    {
      "cell_type": "code",
      "source": [
        "!pip install -q -U einops datasets matplotlib tqdm torch\n",
        "\n",
        "import math\n",
        "from inspect import isfunction\n",
        "from functools import partial\n",
        "\n",
        "%matplotlib inline\n",
        "import matplotlib.pyplot as plt\n",
        "from tqdm.auto import tqdm\n",
        "from einops import rearrange, reduce\n",
        "from einops.layers.torch import Rearrange\n",
        "\n",
        "import torch\n",
        "from torch import nn, einsum\n",
        "import torch.nn.functional as F"
      ],
      "metadata": {
        "id": "UYQA4yV3Efk3"
      },
      "execution_count": null,
      "outputs": []
    },
    {
      "cell_type": "code",
      "source": [
        "# ddpm저자는 T=1000번으로 설정\n",
        "# 베타t 정도는 사용자가 모델링 가능 마치 lr처럼\n",
        "# 근데 어쨌는 타임 T때는 완전한 노이즈가 되어야\n",
        "\"\"\"\n",
        "The neural network needs to take in a noised image at a particular time step and return the predicted noise.\n",
        "Note that the predicted noise is a tensor that has the same size/resolution as the input image.\n",
        "\"\"\"\n"
      ],
      "metadata": {
        "id": "rX_d-oMaEhTI",
        "colab": {
          "base_uri": "https://localhost:8080/",
          "height": 54
        },
        "outputId": "b0fe00b5-db5b-4e01-b313-99e60b6008d6"
      },
      "execution_count": null,
      "outputs": [
        {
          "output_type": "execute_result",
          "data": {
            "text/plain": [
              "'\\nThe neural network needs to take in a noised image at a particular time step and return the predicted noise.\\nNote that the predicted noise is a tensor that has the same size/resolution as the input image.\\n'"
            ],
            "application/vnd.google.colaboratory.intrinsic+json": {
              "type": "string"
            }
          },
          "metadata": {},
          "execution_count": 3
        }
      ]
    },
    {
      "cell_type": "code",
      "source": [
        "def exists(x):\n",
        "  return x is not None\n",
        "\n",
        "def default(val ,d):\n",
        "  if exists(val):\n",
        "    return val\n",
        "  return d() if isfunction(d) else d\n",
        "\n",
        "def num_to_groups(num, divisor):\n",
        "  groups=num//divisor\n",
        "  remainder= num%divisor\n",
        "  arr=[divisor]*groups\n",
        "  if remainder>0:\n",
        "    arr.append(remainder)\n",
        "  return arr\n",
        "\n",
        "class Residual(nn.Module):\n",
        "  def __init__(self, fn):\n",
        "    super().__init__()\n",
        "    self.fn=fn\n",
        "\n",
        "  def forward(self, x, *arg, **kwargs):\n",
        "    return self.fn(x, *arg, **kwargs) + x\n",
        "\n",
        "\n",
        "def Upsample(dim, dim_out=None):\n",
        "  return nn.Seuential(\n",
        "      nn.Upsample(scale_factor=2, mode='nearest'),\n",
        "      nn.Conv2d(dim, default(dim_out, dim),3,padding=1),\n",
        "  )\n",
        "\n",
        "def Downsample(dim, dim_out=None):\n",
        "  return nn.Sequential(\n",
        "      Rearrange(\"b c (h p1) (w p2) -> b (c p1 p2) h w\", p1=2, p2=2),\n",
        "      nn.Conv2d(dim * 4, default(dim_out, dim), 1),\n",
        "  )"
      ],
      "metadata": {
        "id": "XkXgxyOWmwnx"
      },
      "execution_count": null,
      "outputs": []
    },
    {
      "cell_type": "markdown",
      "source": [
        "![image.png](data:image/png;base64,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)"
      ],
      "metadata": {
        "id": "4Xa_Z8--3OBn"
      }
    },
    {
      "cell_type": "code",
      "source": [
        "\"\"\"\n",
        "t값이 달라도 사용하는 입실론세타는 동일 가중치 공유\n",
        "\\epsilon_\\theta: 노이즈 예측을 위한 신경망 (ex: U-Net)\n",
        "\n",
        "\\epsilon_\\theta(x_t, t)는 \"타임스텝 t에서 노이즈 예측\"을 위한 함\n",
        "여기서 \\theta는 학습된 파라미터이며, 시간에 따라 바뀌지 않는다\n",
        "다만, 입력값이 다르기 때문에 출력값은 시간에 따라 다름\n",
        "\"\"\"\n",
        "\n",
        "class SinusoidalPositionEmbeddings(nn.Module):\n",
        "  def __init__(self, dim):\n",
        "    super().__init__()\n",
        "    self.dim=dim # 포지셔널 임베딩의 디멘션\n",
        "\n",
        "  def forward(self, time): # takes a tensor of shape (batch_size, 1) as input , 다시말해 배치 내 여러 노이즈 이미들의 노이즈 레벨 t 예: [[10], [134], [859], ...]\n",
        "    device=time.device # 파이토치에서는 서로다른 device(cpu/gpu)에 있는 텐서를 연산에 같이 쓰면 에러남, 그래서 디바이스 통일- 밑 torch.arange에서 사용\n",
        "    half_dim=self.dim//2\n",
        "    embeddings=math.log(10000) / (half_dim -1)\n",
        "    embeddings=torch.exp(torch.arange(half_dim, device=device)*-embeddings)\n",
        "    embeddings = time[:, None] * embeddings[None, :] # (batch_size, 1)로 변환, embeddings[None, :] # (1, half_dim)로 변환\n",
        "    embeddings = torch.cat((embeddings.sin(), embeddings.cos()), dim=-1) # 트랜스포머처럼 interleave 아니고 그냥 half_dim 끼리 이어붙임\n",
        "    return embeddings # (batch_size, dim)\n",
        "\n",
        "# time step t는 단순히 숫자기 문에 그대로 유넷에 넣을수는 없다.\n",
        "# 그래서 고차원 벡터로 변환해서 네트워크에 주입 예) t_emb = SinusoidalPositionEmbeddings(dim)(t)"
      ],
      "metadata": {
        "id": "bhXefQFqsOAe"
      },
      "execution_count": null,
      "outputs": []
    },
    {
      "cell_type": "code",
      "source": [
        "# 유넷의 코어 빌딩 블록\n",
        "class WeightStandardizedConv2d(nn.Conv2d): # self.weight를 그대로 쓰지 않고, 평균/분산으로 종규화된 weight 계산해서 쓰려고.\n",
        "    \"\"\"\n",
        "    https://arxiv.org/abs/1903.10520\n",
        "    weight standardization purportedly works synergistically with group normalization\n",
        "    \"\"\"\n",
        "    # nn.Conv2d의 __init__이 그대로 상속\n",
        "    # super().__init__(in_channels=dim, out_channels=dim_out, kernel_size, padding)\n",
        "\n",
        "    def forward(self, x): # nn.Conv2d에서 forward만 재정\n",
        "        eps = 1e-5 if x.dtype == torch.float32 else 1e-3\n",
        "\n",
        "        weight = self.weight # nn.Conv2d내 속성, convolution 필터의 가중치\n",
        "        # conv = nn.Conv2d(in_channels=3, out_channels=16, kernel_size=3)-> print(conv.weight.shape)  # e.g., torch.Size([16, 3, 3, 3])\n",
        "        # weight.shape == (out_channels필터 개수, in_channels // groups각 필터가 처리할 입력 채널 수, kernel_height, kernel_width) == (o, i, h, w)\n",
        "        # einops: 텐서 차원관리 해주는 라이브러리, 파이토치 reshape등 가독성 떨어짐\n",
        "        mean = reduce(weight, \"o ... -> o 1 1 1\", \"mean\") # einops의 reduce사용해서 파이토치 텐서 축소. o를 남기고 나머지 차원(i, h, w)은 축소 대상이라는 뜻\n",
        "        var = reduce(weight, \"o ... -> o 1 1 1\", partial(torch.var, unbiased=False)) # partial(...)을 써서 einops의 reduce()에 넣을 수 있게 래핑\n",
        "        normalized_weight = (weight - mean) * (var + eps).rsqrt()\n",
        "\n",
        "        return F.conv2d( # 커스텀 weight, 직접 제어하고 싶은 경우\n",
        "            x,\n",
        "            normalized_weight,\n",
        "            self.bias,\n",
        "            self.stride,\n",
        "            self.padding,\n",
        "            self.dilation,\n",
        "            self.groups,\n",
        "        )\n",
        "\"\"\"\n",
        "nn.Conv2d — 모듈형 레이어 (자동 weight 관리): 그냥 인, 아웃사이즈, 커널사이즈 등만 넣으면 weight값자체는 알아서 처리\n",
        "반면 F.conv2d — 함수형 API (weight 수동 입력): weight 입력란이 있음 따라서 커스텀 weight 처리 가능하다\n",
        "\"\"\"\n",
        "\n",
        "class Block(nn.Module): # 데이터x 받아서 WeightStandardizedConv2d, 기타등등 수행\n",
        "    def __init__(self, dim, dim_out, groups=8):\n",
        "        super().__init__()\n",
        "        self.proj = WeightStandardizedConv2d(dim, dim_out, 3, padding=1) # WeightStandardizedConv2d정의(객체생성). forward는 안한상태\n",
        "        self.norm = nn.GroupNorm(groups, dim_out) # 정규화(norm), dim_out개의 채널을 groups개의 그룹으로 나눠서 정규\n",
        "        self.act = nn.SiLU() # 활성화 함수(act), ReLU보다 부드럽고, 음수 입력도 완전히 죽지 않음\n",
        "\n",
        "    def forward(self, x, scale_shift=None):\n",
        "        x = self.proj(x) # 데이터에 conv 실행->피처맵 생성\n",
        "        x = self.norm(x) # 정규화\n",
        "\n",
        "        if exists(scale_shift):\n",
        "            scale, shift = scale_shift\n",
        "            x = x * (scale + 1) + shift\n",
        "\n",
        "        x = self.act(x) # 활성화 적용(입력 텐서의 모든 원소에 대해 독립적으로 적용)\n",
        "        return x # 최종 가공된 피처맵 반환!(WeightStandardized_conv+그룹정규화+activation)\n",
        "\n",
        "\n",
        "class ResnetBlock(nn.Module):\n",
        "    def __init__(self, dim, dim_out, *, time_emb_dim=None, groups=8):\n",
        "        # * 이후에 나오는 인자는 모두 키워드 인자(keyword-only arguments)로만 받을 수 있다는 의미, time_emb_dim=256, groups=4이렇게해서 함수 호출 시 실수 방지, 코드 가독성 향상..\n",
        "        # 참고) *args는 여러 인자를 튜플로 받음 / **kwargs는 여러개의 키워드 인자를 dict로 받음\n",
        "        super().__init__()\n",
        "        self.mlp = (\n",
        "            nn.Sequential(nn.SiLU(), nn.Linear(time_emb_dim, dim_out * 2))\n",
        "            if exists(time_emb_dim)\n",
        "            else None\n",
        "        ) # time_emb_dim값이 있으면 시퀀셜 반환\n",
        "\n",
        "        self.block1 = Block(dim, dim_out, groups=groups)  # Conv-Norm-Act 블록 정의\n",
        "        self.block2 = Block(dim_out, dim_out, groups=groups)  # dim_out으로 고정되어 있, feature refinement\n",
        "        self.res_conv = nn.Conv2d(dim, dim_out, 1) if dim != dim_out else nn.Identity() # Residual 연결!!!\n",
        "        # x의 채널수가 f(x) 채널 수와 다른 경우, 채널수 맞추기 위해 1*1 conv로 조정하고 아니면 입력 그대로 통과 (nn.Identity())\n",
        "        # 통과되면서 입력의 채널 수(dim)를 출력 채널 수(dim_out)에 맞춰줌\n",
        "\n",
        "    def forward(self, x, time_emb=None):\n",
        "        scale_shift = None\n",
        "        if exists(self.mlp) and exists(time_emb):\n",
        "            time_emb = self.mlp(time_emb)\n",
        "            time_emb = rearrange(time_emb, \"b c -> b c 1 1\")\n",
        "            scale_shift = time_emb.chunk(2, dim=1)\n",
        "\n",
        "        h = self.block1(x, scale_shift=scale_shift)\n",
        "        h = self.block2(h)\n",
        "        return h + self.res_conv(x) # Residual 연결!!!\n",
        "# 입력 feature map x를 두 개의 Conv(+a) 블록 (block1, block2)을 통해 처리하고\n",
        "# 마지막에 residual 연결(x + f(x))을 통해 결과를 출력"
      ],
      "metadata": {
        "id": "zkvrMFn84bO6"
      },
      "execution_count": null,
      "outputs": []
    },
    {
      "cell_type": "markdown",
      "source": [
        "- 어텐션 모듈로, 저자들이 컨볼루션 블록 사이에 추가함\n",
        "-여기서의 어텐션은 두개의 바리에이션이 있다- 레귤러 멀티헤드, 리니어 어텐션 바이에이션"
      ],
      "metadata": {
        "id": "2xpYt05DTLnd"
      }
    },
    {
      "cell_type": "code",
      "source": [
        "class Attention(nn.Module): # 시퀀스 길이에 따라 이차적으로 증가\n",
        "# Self-Attention을 2D 이미지 feature map에 적용하는 구조: 2D Conv + Rearranging\n",
        "# Conv만으로는 장거리 의존성(long-range dependency)을 포착하기 어려워서 어텐션 추가\n",
        "    def __init__(self, dim, heads=4, dim_head=32):\n",
        "        super().__init__()\n",
        "        self.scale = dim_head**-0.5\n",
        "        self.heads = heads\n",
        "        hidden_dim = dim_head * heads\n",
        "        self.to_qkv = nn.Conv2d(dim, hidden_dim * 3, 1, bias=False)\n",
        "        self.to_out = nn.Conv2d(hidden_dim, dim, 1)\n",
        "\n",
        "    def forward(self, x):\n",
        "        b, c, h, w = x.shape # 배치 크기, 채널 수, 높이, 너비\n",
        "        qkv = self.to_qkv(x).chunk(3, dim=1) # 입력 feature map을 Q, K, V로 나눔\n",
        "        q, k, v = map(\n",
        "            lambda t: rearrange(t, \"b (h c) x y -> b h c (x y)\", h=self.heads), qkv\n",
        "            # rearrange는 einops 라이브러리 함수(2D feature map을 멀티헤드 어텐션 입력 포맷으로)\n",
        "        )\n",
        "        q = q * self.scale\n",
        "\n",
        "        sim = einsum(\"b h d i, b h d j -> b h i j\", q, k)\n",
        "        sim = sim - sim.amax(dim=-1, keepdim=True).detach()\n",
        "        attn = sim.softmax(dim=-1)\n",
        "\n",
        "        out = einsum(\"b h i j, b h d j -> b h i d\", attn, v)\n",
        "        out = rearrange(out, \"b h (x y) d -> b (h d) x y\", x=h, y=w)\n",
        "        return self.to_out(out)\n",
        "\n",
        "class LinearAttention(nn.Module): # Linear Attention: 긴 시퀀스에서도 효율적 처리 가능 (선형적 복잡도 증가)\n",
        "    def __init__(self, dim, heads=4, dim_head=32):\n",
        "        super().__init__()\n",
        "        self.scale = dim_head**-0.5\n",
        "        self.heads = heads\n",
        "        hidden_dim = dim_head * heads\n",
        "        self.to_qkv = nn.Conv2d(dim, hidden_dim * 3, 1, bias=False)\n",
        "\n",
        "        self.to_out = nn.Sequential(nn.Conv2d(hidden_dim, dim, 1),\n",
        "                                    nn.GroupNorm(1, dim))\n",
        "\n",
        "    def forward(self, x):\n",
        "        b, c, h, w = x.shape\n",
        "        qkv = self.to_qkv(x).chunk(3, dim=1)\n",
        "        q, k, v = map(\n",
        "            lambda t: rearrange(t, \"b (h c) x y -> b h c (x y)\", h=self.heads), qkv\n",
        "        )\n",
        "\n",
        "        q = q.softmax(dim=-2)\n",
        "        k = k.softmax(dim=-1)\n",
        "\n",
        "        q = q * self.scale\n",
        "        context = torch.einsum(\"b h d n, b h e n -> b h d e\", k, v)\n",
        "\n",
        "        out = torch.einsum(\"b h d e, b h d n -> b h e n\", context, q)\n",
        "        out = rearrange(out, \"b h c (x y) -> b (h c) x y\", h=self.heads, x=h, y=w)\n",
        "        return self.to_out(out)\n"
      ],
      "metadata": {
        "id": "SQyw8l-z2djI"
      },
      "execution_count": null,
      "outputs": []
    },
    {
      "cell_type": "code",
      "source": [
        "class PreNorm(nn.Module):\n",
        "    def __init__(self, dim, fn):\n",
        "        super().__init__()\n",
        "        self.fn = fn\n",
        "        self.norm = nn.GroupNorm(1, dim)\n",
        "\n",
        "    def forward(self, x):\n",
        "        x = self.norm(x)\n",
        "        return self.fn(x)"
      ],
      "metadata": {
        "id": "0gx2JeyFUQI5"
      },
      "execution_count": null,
      "outputs": []
    },
    {
      "cell_type": "markdown",
      "source": [
        "# Conditional U-Net"
      ],
      "metadata": {
        "id": "v3LPPQc4Y_l2"
      }
    },
    {
      "cell_type": "markdown",
      "source": [
        "the job of the network: is to take in a batch of noisy images and their respective noise levels, and output the noise added to the input.\n",
        "- the network takes a batch of noisy images of shape (batch_size, num_channels, height, width) and a batch of noise levels of shape (batch_size, 1) as input, and returns a tensor of shape (batch_size, num_channels, height, width)"
      ],
      "metadata": {
        "id": "1DqvgvOFZV-T"
      }
    },
    {
      "cell_type": "markdown",
      "source": [
        "- 매 스텝 t에 해당하는 노이즈 강도는 고정되어 있지만, 스텝마다 \"새롭게 섞이는\" 노이즈 양은 매번 다르다"
      ],
      "metadata": {
        "id": "KSuFfv8Hhnbh"
      }
    },
    {
      "cell_type": "markdown",
      "source": [
        "![image.png](data:image/png;base64,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)"
      ],
      "metadata": {
        "id": "NpLxd_Z_aXl-"
      }
    },
    {
      "cell_type": "markdown",
      "source": [
        "- 1. 노이즈 섞인 배치 이미지마다 컨볼루션 레이어가 적용(초기 feature를 추출)되고, 노이즈 레벨에 따라 포지셔널 임베딩(=타임스텝임베딩)적용된다.\n",
        "- 2. 여러 다운샘플링 단계가 적용된다. 각 다운샘플링 스테이지는 2개의 레스넷 블록+ 그룹정규화+어텐션+레지듀얼 커넥션+다운샘플 연산\n",
        "- 3. 네트워크 중간(Bottleneck)에 어텐션과 교차되며 레스넷 블록이 또 적용(ResNet Block → Attention → ResNet Block)\n",
        "- 4. 다음으로 업샘플링 과정이 시작된다. 각 업샘플링 스테이지는 2개의 레스넷 블록+ 그룹정규화+어텐션+레지듀얼 커넥션+업샘플 연산\n",
        "- 5. 마지막으로 ResNet 블록과 컨볼루션 레이어를 통해 최종 출력"
      ],
      "metadata": {
        "id": "XEwbEPYFh_g-"
      }
    },
    {
      "cell_type": "code",
      "source": [
        "# 매 샘플, 매 iteration마다 노이즈는 다름(매번 다른 e가 샘플링)\n",
        "\n",
        "class Unet(nn.Module):\n",
        "    def __init__(\n",
        "        self,\n",
        "        dim,\n",
        "        init_dim=None,\n",
        "        out_dim=None,\n",
        "        dim_mults=(1, 2, 4, 8),\n",
        "        channels=3,\n",
        "        self_condition=False,\n",
        "        resnet_block_groups=4,\n",
        "    ):\n",
        "        super().__init__()\n",
        "\n",
        "        # determine dimensions\n",
        "        self.channels = channels\n",
        "        self.self_condition = self_condition\n",
        "        input_channels = channels * (2 if self_condition else 1)\n",
        "\n",
        "        init_dim = default(init_dim, dim) # init_dim = dim\n",
        "        self.init_conv = nn.Conv2d(input_channels, init_dim, 1, padding=0) # changed to 1 and 0 from 7, 3\n",
        "        #  3(RGB니까), dim, 1\n",
        "        dims = [init_dim, *map(lambda m: dim * m, dim_mults)] # [3, 1*dim, 2*dim, 4*dim, 8*dim]\n",
        "        in_out = list(zip(dims[:-1], dims[1:])) # [(3,1*dim), ..]\n",
        "\n",
        "        block_klass = partial(ResnetBlock, groups=resnet_block_groups) # partial:: 기본 인자값이 일부 고정된 함수\n",
        "        # ResnetBlock을 사용할 때마다, 항상 groups=resnet_block_groups를 기본 인자로 포함\n",
        "\n",
        "\n",
        "        # time embeddings\n",
        "        time_dim = dim * 4\n",
        "\n",
        "        self.time_mlp = nn.Sequential(\n",
        "            SinusoidalPositionEmbeddings(dim),\n",
        "            # MLP - 위에서 만든 벡터를 더 expressive하게 변환해서 학습 가능하게 하는 층\n",
        "            nn.Linear(dim, time_dim),\n",
        "            nn.GELU(),\n",
        "            nn.Linear(time_dim, time_dim),\n",
        "        )\n",
        "\n",
        "        # layers\n",
        "        self.downs = nn.ModuleList([])\n",
        "        self.ups = nn.ModuleList([])\n",
        "        num_resolutions = len(in_out)\n",
        "\n",
        "        for ind, (dim_in, dim_out) in enumerate(in_out):\n",
        "            is_last = ind >= (num_resolutions - 1)\n",
        "\n",
        "            self.downs.append(\n",
        "                nn.ModuleList(\n",
        "                    [\n",
        "                        block_klass(dim_in, dim_in, time_emb_dim=time_dim), # ResnetBlock 생성기\n",
        "                        block_klass(dim_in, dim_in, time_emb_dim=time_dim),\n",
        "                        Residual(PreNorm(dim_in, LinearAttention(dim_in))),\n",
        "                        Downsample(dim_in, dim_out) # 공간 해상도(H×W)를 1/2로 줄이고, 채널 수를 4배 늘렸다가 다시 원하는 수(dim_out)로 줄이는 다운샘플링\n",
        "                        if not is_last\n",
        "                        else nn.Conv2d(dim_in, dim_out, 3, padding=1),\n",
        "                    ]\n",
        "                )\n",
        "            )\n",
        "\n",
        "        mid_dim = dims[-1]\n",
        "        self.mid_block1 = block_klass(mid_dim, mid_dim, time_emb_dim=time_dim)\n",
        "        self.mid_attn = Residual(PreNorm(mid_dim, Attention(mid_dim)))\n",
        "        self.mid_block2 = block_klass(mid_dim, mid_dim, time_emb_dim=time_dim)\n",
        "\n",
        "        for ind, (dim_in, dim_out) in enumerate(reversed(in_out)):\n",
        "            is_last = ind == (len(in_out) - 1)\n",
        "\n",
        "            self.ups.append(\n",
        "                nn.ModuleList(\n",
        "                    [\n",
        "                        block_klass(dim_out + dim_in, dim_out, time_emb_dim=time_dim),\n",
        "                        # U-Net의 업샘플링 파트에서는 이전에 저장해둔 downsampling 중간 결과(h)와 현재의 업샘플링 출력을 concat(채널 방향)\n",
        "                        # 더하는게 아님, 업샘플 feature: [B, 128, H, W] / skip feature: [B, 64, H, W] → concat 후: [B, 192, H, W]\n",
        "                        # dim_out + dim_in (U-Net의 skip connection은 concat)\n",
        "                        block_klass(dim_out + dim_in, dim_out, time_emb_dim=time_dim),\n",
        "                        Residual(PreNorm(dim_out, LinearAttention(dim_out))),\n",
        "                        Upsample(dim_out, dim_in)\n",
        "                        if not is_last\n",
        "                        else nn.Conv2d(dim_out, dim_in, 3, padding=1),\n",
        "                    ]\n",
        "                )\n",
        "            )\n",
        "\n",
        "        self.out_dim = default(out_dim, channels)\n",
        "\n",
        "        self.final_res_block = block_klass(dim * 2, dim, time_emb_dim=time_dim)\n",
        "        self.final_conv = nn.Conv2d(dim, self.out_dim, 1)\n",
        "\n",
        "    def forward(self, x, time, x_self_cond=None):\n",
        "        if self.self_condition:\n",
        "            x_self_cond = default(x_self_cond, lambda: torch.zeros_like(x))\n",
        "            x = torch.cat((x_self_cond, x), dim=1)\n",
        "\n",
        "        x = self.init_conv(x)\n",
        "        r = x.clone()\n",
        "\n",
        "        t = self.time_mlp(time) # 타임 임베딩\n",
        "\n",
        "        h = []\n",
        "\n",
        "        for block1, block2, attn, downsample in self.downs:\n",
        "            x = block1(x, t)\n",
        "            h.append(x)\n",
        "\n",
        "            x = block2(x, t)\n",
        "            x = attn(x)\n",
        "            h.append(x)\n",
        "\n",
        "            x = downsample(x)\n",
        "\n",
        "        x = self.mid_block1(x, t)\n",
        "        x = self.mid_attn(x)\n",
        "        x = self.mid_block2(x, t)\n",
        "\n",
        "        for block1, block2, attn, upsample in self.ups:\n",
        "            x = torch.cat((x, h.pop()), dim=1) # 채널 방향으로 cat\n",
        "            x = block1(x, t)\n",
        "\n",
        "            x = torch.cat((x, h.pop()), dim=1)\n",
        "            x = block2(x, t)\n",
        "            x = attn(x)\n",
        "\n",
        "            x = upsample(x)\n",
        "\n",
        "        x = torch.cat((x, r), dim=1)\n",
        "\n",
        "        x = self.final_res_block(x, t)\n",
        "        return self.final_conv(x)\n"
      ],
      "metadata": {
        "id": "qXHKUtgCYnhU"
      },
      "execution_count": null,
      "outputs": []
    },
    {
      "cell_type": "markdown",
      "source": [
        "##forward diffusion process\n",
        "- The forward diffusion process gradually adds noise to an image from the real distribution\n",
        "- variance schedule\n",
        "![image.png](data:image/png;base64,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)"
      ],
      "metadata": {
        "id": "op47sZcSNub0"
      }
    },
    {
      "cell_type": "markdown",
      "source": [
        "- 그러나 코사인 스케줄 쓰면 결과가 더 좋다는게 밝혀짐"
      ],
      "metadata": {
        "id": "6yM6QpmcOkr1"
      }
    },
    {
      "cell_type": "markdown",
      "source": [
        "![image.png](data:image/png;base64,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)"
      ],
      "metadata": {
        "id": "-yAn09BhRAFn"
      }
    },
    {
      "cell_type": "code",
      "source": [
        "# 여러 노이즈 스케줄\n",
        "def cosine_beta_schedule(timesteps, s=0.008):\n",
        "    \"\"\"\n",
        "    cosine schedule as proposed in https://arxiv.org/abs/2102.09672\n",
        "    \"\"\"\n",
        "    steps = timesteps + 1 # T+1\n",
        "    x = torch.linspace(0, timesteps, steps) # T+1개 점 생성\n",
        "    alphas_cumprod = torch.cos(((x / timesteps) + s) / (1 + s) * torch.pi * 0.5) ** 2 # 누적 알파값 생성 - 누적알파가 부드럽게 줄어듬\n",
        "    alphas_cumprod = alphas_cumprod / alphas_cumprod[0] # 처음 값을 기준으로 정규화해서 ᾱ₀ = 1이 되도록\n",
        "    betas = 1 - (alphas_cumprod[1:] / alphas_cumprod[:-1])\n",
        "    return torch.clip(betas, 0.0001, 0.9999) # 너무 작은 β나 너무 큰 β는 학습 안정성에 악영향-> 클리핑\n",
        "\n",
        "def linear_beta_schedule(timesteps):\n",
        "    beta_start = 0.0001\n",
        "    beta_end = 0.02\n",
        "    return torch.linspace(beta_start, beta_end, timesteps)\n",
        "\n",
        "def quadratic_beta_schedule(timesteps):\n",
        "    beta_start = 0.0001\n",
        "    beta_end = 0.02\n",
        "    return torch.linspace(beta_start**0.5, beta_end**0.5, timesteps) ** 2\n",
        "\n",
        "def sigmoid_beta_schedule(timesteps):\n",
        "    beta_start = 0.0001\n",
        "    beta_end = 0.02\n",
        "    betas = torch.linspace(-6, 6, timesteps)\n",
        "    return torch.sigmoid(betas) * (beta_end - beta_start) + beta_start\n"
      ],
      "metadata": {
        "id": "dtK4fbLyNQh7"
      },
      "execution_count": null,
      "outputs": []
    },
    {
      "cell_type": "markdown",
      "source": [
        "![image.png](data:image/png;base64,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)"
      ],
      "metadata": {
        "id": "eDkaB0FcVU8X"
      }
    },
    {
      "cell_type": "code",
      "source": [
        "timesteps = 300\n",
        "\n",
        "# define beta schedule\n",
        "betas = linear_beta_schedule(timesteps=timesteps)\n",
        "\n",
        "# define alphas\n",
        "alphas = 1. - betas\n",
        "alphas_cumprod = torch.cumprod(alphas, axis=0)   # 누적 곱\n",
        "alphas_cumprod_prev = F.pad(alphas_cumprod[:-1], (1, 0), value=1.0)  # 왼쪽에 1개 패딩하고 그 값은 1.0\n",
        "sqrt_recip_alphas = torch.sqrt(1.0 / alphas)\n",
        "\n",
        "# calculations for diffusion q(x_t | x_{t-1}) and others\n",
        "sqrt_alphas_cumprod = torch.sqrt(alphas_cumprod)\n",
        "sqrt_one_minus_alphas_cumprod = torch.sqrt(1. - alphas_cumprod)\n",
        "\n",
        "# calculations for posterior q(x_{t-1} | x_t, x_0)\n",
        "posterior_variance = betas * (1. - alphas_cumprod_prev) / (1. - alphas_cumprod)\n",
        "\n",
        "def extract(a, t, x_shape):\n",
        "    batch_size = t.shape[0] # 배치 크기 저장\n",
        "    out = a.gather(-1, t.cpu()) # a: 1000개의 timestep에 대한 값\n",
        "    return out.reshape(batch_size, *((1,) * (len(x_shape) - 1))).to(t.device)\n"
      ],
      "metadata": {
        "id": "00aE07rURWQ0"
      },
      "execution_count": null,
      "outputs": []
    },
    {
      "cell_type": "markdown",
      "source": [
        "- 이미지 노이즈 과정"
      ],
      "metadata": {
        "id": "DRdz5abyWuSC"
      }
    },
    {
      "cell_type": "code",
      "source": [
        "from PIL import Image\n",
        "import requests\n",
        "\n",
        "url = 'http://images.cocodataset.org/val2017/000000039769.jpg'\n",
        "image = Image.open(requests.get(url, stream=True).raw) # PIL image of shape HWC\n",
        "image\n",
        "\n",
        "from torchvision.transforms import Compose, ToTensor, Lambda, ToPILImage, CenterCrop, Resize\n",
        "\n",
        "image_size = 128\n",
        "transform = Compose([\n",
        "    Resize(image_size),\n",
        "    CenterCrop(image_size),\n",
        "    ToTensor(), # turn into torch Tensor of shape CHW, divide by 255\n",
        "    Lambda(lambda t: (t * 2) - 1),\n",
        "\n",
        "])\n",
        "\n",
        "x_start = transform(image).unsqueeze(0)\n",
        "x_start.shape\n",
        "\n",
        "import numpy as np\n",
        "\n",
        "reverse_transform = Compose([\n",
        "     Lambda(lambda t: (t + 1) / 2),\n",
        "     Lambda(lambda t: t.permute(1, 2, 0)), # CHW to HWC\n",
        "     Lambda(lambda t: t * 255.),\n",
        "     Lambda(lambda t: t.numpy().astype(np.uint8)),\n",
        "     ToPILImage(),\n",
        "])\n",
        "\n",
        "# forward diffusion (using the nice property)\n",
        "def q_sample(x_start, t, noise=None):\n",
        "    if noise is None:\n",
        "        noise = torch.randn_like(x_start)\n",
        "\n",
        "    sqrt_alphas_cumprod_t = extract(sqrt_alphas_cumprod, t, x_start.shape)\n",
        "    sqrt_one_minus_alphas_cumprod_t = extract(\n",
        "        sqrt_one_minus_alphas_cumprod, t, x_start.shape\n",
        "    )\n",
        "\n",
        "    return sqrt_alphas_cumprod_t * x_start + sqrt_one_minus_alphas_cumprod_t * noise\n",
        "\n",
        "def get_noisy_image(x_start, t):\n",
        "  # add noise\n",
        "  x_noisy = q_sample(x_start, t=t)\n",
        "\n",
        "  # turn back into PIL image\n",
        "  noisy_image = reverse_transform(x_noisy.squeeze())\n",
        "\n",
        "  return noisy_image"
      ],
      "metadata": {
        "id": "lh4bgbtyWtrp"
      },
      "execution_count": null,
      "outputs": []
    },
    {
      "cell_type": "code",
      "source": [
        "import matplotlib.pyplot as plt\n",
        "\n",
        "# use seed for reproducability\n",
        "torch.manual_seed(0)\n",
        "\n",
        "# source: https://pytorch.org/vision/stable/auto_examples/plot_transforms.html#sphx-glr-auto-examples-plot-transforms-py\n",
        "def plot(imgs, with_orig=False, row_title=None, **imshow_kwargs):\n",
        "    if not isinstance(imgs[0], list):\n",
        "        # Make a 2d grid even if there's just 1 row\n",
        "        imgs = [imgs]\n",
        "\n",
        "    num_rows = len(imgs)\n",
        "    num_cols = len(imgs[0]) + with_orig\n",
        "    fig, axs = plt.subplots(figsize=(200,200), nrows=num_rows, ncols=num_cols, squeeze=False)\n",
        "    for row_idx, row in enumerate(imgs):\n",
        "        row = [image] + row if with_orig else row\n",
        "        for col_idx, img in enumerate(row):\n",
        "            ax = axs[row_idx, col_idx]\n",
        "            ax.imshow(np.asarray(img), **imshow_kwargs)\n",
        "            ax.set(xticklabels=[], yticklabels=[], xticks=[], yticks=[])\n",
        "\n",
        "    if with_orig:\n",
        "        axs[0, 0].set(title='Original image')\n",
        "        axs[0, 0].title.set_size(8)\n",
        "    if row_title is not None:\n",
        "        for row_idx in range(num_rows):\n",
        "            axs[row_idx, 0].set(ylabel=row_title[row_idx])\n",
        "\n",
        "    plt.tight_layout()\n"
      ],
      "metadata": {
        "id": "s-KkiYHfkTcU"
      },
      "execution_count": null,
      "outputs": []
    },
    {
      "cell_type": "code",
      "source": [
        "def p_losses(denoise_model, x_start, t, noise=None, loss_type=\"l1\"):\n",
        "    if noise is None:\n",
        "        noise = torch.randn_like(x_start)\n",
        "\n",
        "    x_noisy = q_sample(x_start=x_start, t=t, noise=noise)\n",
        "    predicted_noise = denoise_model(x_noisy, t)\n",
        "\n",
        "    if loss_type == 'l1':\n",
        "        loss = F.l1_loss(noise, predicted_noise)\n",
        "    elif loss_type == 'l2':\n",
        "        loss = F.mse_loss(noise, predicted_noise)\n",
        "    elif loss_type == \"huber\":\n",
        "        loss = F.smooth_l1_loss(noise, predicted_noise)\n",
        "    else:\n",
        "        raise NotImplementedError()\n",
        "\n",
        "    return loss\n"
      ],
      "metadata": {
        "id": "rCQdknE6kVZB"
      },
      "execution_count": null,
      "outputs": []
    },
    {
      "cell_type": "code",
      "source": [
        "from datasets import load_dataset\n",
        "\n",
        "# load dataset from the hub\n",
        "dataset = load_dataset(\"fashion_mnist\")\n",
        "image_size = 28\n",
        "channels = 1\n",
        "batch_size = 128\n"
      ],
      "metadata": {
        "id": "OrqN1Yj3kXSP"
      },
      "execution_count": null,
      "outputs": []
    },
    {
      "cell_type": "code",
      "source": [
        "@torch.no_grad()\n",
        "def p_sample(model, x, t, t_index):\n",
        "    betas_t = extract(betas, t, x.shape)\n",
        "    sqrt_one_minus_alphas_cumprod_t = extract(\n",
        "        sqrt_one_minus_alphas_cumprod, t, x.shape\n",
        "    )\n",
        "    sqrt_recip_alphas_t = extract(sqrt_recip_alphas, t, x.shape)\n",
        "\n",
        "    # Equation 11 in the paper\n",
        "    # Use our model (noise predictor) to predict the mean\n",
        "    model_mean = sqrt_recip_alphas_t * (\n",
        "        x - betas_t * model(x, t) / sqrt_one_minus_alphas_cumprod_t\n",
        "    )\n",
        "\n",
        "    if t_index == 0:\n",
        "        return model_mean\n",
        "    else:\n",
        "        posterior_variance_t = extract(posterior_variance, t, x.shape)\n",
        "        noise = torch.randn_like(x)\n",
        "        # Algorithm 2 line 4:\n",
        "        return model_mean + torch.sqrt(posterior_variance_t) * noise\n",
        "\n",
        "# Algorithm 2 (including returning all images)\n",
        "@torch.no_grad()\n",
        "def p_sample_loop(model, shape):\n",
        "    device = next(model.parameters()).device\n",
        "\n",
        "    b = shape[0]\n",
        "    # start from pure noise (for each example in the batch)\n",
        "    img = torch.randn(shape, device=device)\n",
        "    imgs = []\n",
        "\n",
        "    for i in tqdm(reversed(range(0, timesteps)), desc='sampling loop time step', total=timesteps):\n",
        "        img = p_sample(model, img, torch.full((b,), i, device=device, dtype=torch.long), i)\n",
        "        imgs.append(img.cpu().numpy())\n",
        "    return imgs\n",
        "\n",
        "@torch.no_grad()\n",
        "def sample(model, image_size, batch_size=16, channels=3):\n",
        "    return p_sample_loop(model, shape=(batch_size, channels, image_size, image_size))\n"
      ],
      "metadata": {
        "id": "0o9AHSF-keK7"
      },
      "execution_count": null,
      "outputs": []
    }
  ]
}